{
 "cells": [
  {
   "cell_type": "code",
   "execution_count": 4,
   "id": "647dbef9",
   "metadata": {},
   "outputs": [
    {
     "name": "stdout",
     "output_type": "stream",
     "text": [
      "True\n",
      "False\n",
      "False\n",
      "True\n",
      "True\n",
      "True\n",
      "------\n",
      "True\n",
      "RADAR\n",
      "------\n",
      "False\n"
     ]
    }
   ],
   "source": [
    "class Palindromo (object):\n",
    "    \n",
    "    cadena= \"\"\n",
    "    \n",
    "    def __init__(self,cadena):\n",
    "        self.cadena= cadena\n",
    "        \n",
    "    def test (self):\n",
    "        return Palindromo.esPalindromo(self.cadena)\n",
    "    \n",
    "    def __del__ (self):\n",
    "        print (self.cadena.upper())\n",
    "        \n",
    "    @classmethod\n",
    "    def esPalindromo (cls,cadena):\n",
    "        cadena= cls.filtrado2(cadena)\n",
    "        cadena= cls.filtrado3(cadena)\n",
    "        return cls.palindromoRecursivo (cadena,0,len(cadena)-1)\n",
    "    \n",
    "    @classmethod\n",
    "    def filtrado2 (cls,cadena):\n",
    "        resultado= \"\"\n",
    "        acentuados= \"áéíóúÁÉÍÓÚ\"\n",
    "        sinAcentuar= \"aeiouAEIOU\"\n",
    "        for caracter in cadena:\n",
    "            pos= acentuados.find(caracter)\n",
    "            if pos!=-1:\n",
    "                resultado= resultado + sinAcentuar[pos]\n",
    "            else:\n",
    "                resultado= resultado + caracter\n",
    "        return resultado\n",
    "    \n",
    "    @classmethod\n",
    "    def filtrado3 (cls,cadena):\n",
    "        return cadena.lower()\n",
    "    \n",
    "    @classmethod\n",
    "    def palindromoRecursivo (cls,cadena,inicio,fin):\n",
    "        if inicio==fin:\n",
    "            return True\n",
    "        elif inicio>fin:\n",
    "            return True\n",
    "        else:\n",
    "            if cadena[inicio]!=cadena[fin]:\n",
    "                return False\n",
    "            else:\n",
    "                return cls.palindromoRecursivo(cadena,inicio+1,fin-1)\n",
    "    \n",
    "    \n",
    "print(Palindromo.esPalindromo(\"radar\"))\n",
    "print(Palindromo.esPalindromo(\"sonar\"))\n",
    "print(Palindromo.esPalindromo(\"Arde ya la yedra\"))\n",
    "print(Palindromo.esPalindromo(\"Ardeyalayedra\"))\n",
    "print(Palindromo.esPalindromo(\"!@#$% %$#@!\"))\n",
    "print(Palindromo.esPalindromo(\"L O L\"))\n",
    "p = Palindromo(\"radar\") \n",
    "print(\"------\")\n",
    "print(p.test()) \n",
    "p = Palindromo(\"sonar\") \n",
    "print(\"------\")\n",
    "print(p.test()) "
   ]
  },
  {
   "cell_type": "markdown",
   "id": "63e46a5f",
   "metadata": {},
   "source": [
    "Pregunta adicional: ¿por qué se muestra RADAR después de la instanciación Palindromo(\"sonar\")?\n",
    "\n",
    "Se muestra porque al hacer la instanciación de la cadena \"sonar\" se destruye el objeto anterior y por tanto se llama al destructor de la clase."
   ]
  },
  {
   "cell_type": "markdown",
   "id": "f1cd9ed2",
   "metadata": {},
   "source": [
    "Puzzle\n",
    "clase A ('a' es otra forma de llamar a 'A' e 'y' es otra forma de llamar al método 'z' de la clase 'A')\n",
    "False (el objeto 'aa' es distinto al que se crea al llamar por segunda vez al constructor de la clase)\n",
    "0 (la longitud de la secuencia vacía es 0)\n",
    "1 (la longitud de la secuencia (a,) es 1)\n",
    "2 (la longitud de la secuencia (aa, (a,z)) es 2)\n",
    "3 (la longitud de la secuencia (z,1,'z') es 3) "
   ]
  },
  {
   "cell_type": "code",
   "execution_count": 13,
   "id": "3dd1c126",
   "metadata": {},
   "outputs": [],
   "source": [
    "class Logger:\n",
    "    def __init__ (self):\n",
    "        self.archivo= open(\"log.txt\",\"w\")\n",
    "        self.archivo.write(\"--Start log--\\n\")\n",
    "        self.contador= 0\n",
    "        \n",
    "    def __del__ (self):\n",
    "        self.archivo.write(\"--End log: {} log(s)--\\n\".format(self.contador))\n",
    "        self.archivo.close()\n",
    "    \n",
    "    def log (self,mensaje):\n",
    "        self.archivo.write(mensaje)\n",
    "        self.archivo.write(\"\\n\")\n",
    "        self.contador+=1"
   ]
  },
  {
   "cell_type": "code",
   "execution_count": null,
   "id": "cf184b6c",
   "metadata": {},
   "outputs": [],
   "source": []
  }
 ],
 "metadata": {
  "kernelspec": {
   "display_name": "Python 3 (ipykernel)",
   "language": "python",
   "name": "python3"
  },
  "language_info": {
   "codemirror_mode": {
    "name": "ipython",
    "version": 3
   },
   "file_extension": ".py",
   "mimetype": "text/x-python",
   "name": "python",
   "nbconvert_exporter": "python",
   "pygments_lexer": "ipython3",
   "version": "3.9.7"
  }
 },
 "nbformat": 4,
 "nbformat_minor": 5
}
